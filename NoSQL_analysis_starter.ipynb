{
 "cells": [
  {
   "cell_type": "markdown",
   "id": "9a57c4c6",
   "metadata": {},
   "source": [
    "# Eat Safe, Love"
   ]
  },
  {
   "cell_type": "markdown",
   "id": "064ef857",
   "metadata": {},
   "source": [
    "## Notebook Set Up"
   ]
  },
  {
   "cell_type": "code",
   "execution_count": null,
   "id": "3ecdd008",
   "metadata": {},
   "outputs": [],
   "source": [
    "# Import dependencies\n",
    "from pymongo import MongoClient\n",
    "from pprint import pprint"
   ]
  },
  {
   "cell_type": "code",
   "execution_count": null,
   "id": "59390c4a",
   "metadata": {},
   "outputs": [],
   "source": [
    "# Create an instance of MongoClient\n",
    "mongo = MongoClient(port=27017)"
   ]
  },
  {
   "cell_type": "code",
   "execution_count": null,
   "id": "71e373c1",
   "metadata": {},
   "outputs": [],
   "source": [
    "# assign the uk_food database to a variable name\n",
    "db = mongo['uk_food']"
   ]
  },
  {
   "cell_type": "code",
   "execution_count": null,
   "id": "18ab463c",
   "metadata": {},
   "outputs": [],
   "source": [
    "# review the collections in our database\n",
    "collections_list = db.list_collection_names()\n",
    "\n",
    "print(\"Collections in the 'uk_food' database:\")\n",
    "pprint(collections_list)"
   ]
  },
  {
   "cell_type": "code",
   "execution_count": null,
   "id": "11c9f11b",
   "metadata": {},
   "outputs": [],
   "source": [
    "# assign the collection to a variable\n",
    "establishments = db['establishments']"
   ]
  },
  {
   "cell_type": "markdown",
   "id": "d5671434",
   "metadata": {},
   "source": [
    "## Part 3: Exploratory Analysis\n",
    "Unless otherwise stated, for each question: \n",
    "* Use `count_documents` to display the number of documents contained in the result.\n",
    "* Display the first document in the results using `pprint`.\n",
    "* Convert the result to a Pandas DataFrame, print the number of rows in the DataFrame, and display the first 10 rows."
   ]
  },
  {
   "cell_type": "markdown",
   "id": "314bd884",
   "metadata": {},
   "source": [
    "### 1. Which establishments have a hygiene score equal to 20?"
   ]
  },
  {
   "cell_type": "code",
   "execution_count": null,
   "id": "c2da7648",
   "metadata": {},
   "outputs": [],
   "source": [
    "# Find the establishments with a hygiene score of 20\n",
    "\n",
    "query = {\"scores.Hygiene\": 20}\n",
    "\n",
    "# Use count_documents to display the number of documents in the result\n",
    "count_result = db.establishments.count_documents(query)\n",
    "print(f\"Number of establishments with a hygiene score of 20: {count_result}\")\n",
    "\n",
    "# Display the first document in the results using pprint\n",
    "result_document = db.establishments.find_one(query)\n",
    "print(\"First document with a hygiene score of 20:\")\n",
    "pprint(result_document)"
   ]
  },
  {
   "cell_type": "code",
   "execution_count": null,
   "id": "a6e5cece",
   "metadata": {},
   "outputs": [],
   "source": [
    "# Convert the result to a Pandas DataFrame\n",
    "\n",
    "df_result = pd.DataFrame(list(db.establishments.find(query)))\n",
    "\n",
    "# Display the number of rows in the DataFrame\n",
    "print(f\"Number of rows in the DataFrame: {len(df_result)}\")\n",
    "\n",
    "# Display the first 10 rows of the DataFrame\n",
    "print(\"First 10 rows of the DataFrame:\")\n",
    "print(df_result.head(10))"
   ]
  },
  {
   "cell_type": "markdown",
   "id": "0ef4395a",
   "metadata": {},
   "source": [
    "### 2. Which establishments in London have a `RatingValue` greater than or equal to 4?"
   ]
  },
  {
   "cell_type": "code",
   "execution_count": null,
   "id": "93c63829",
   "metadata": {},
   "outputs": [],
   "source": [
    "# Find the establishments with London as the Local Authority and has a RatingValue greater than or equal to 4.\n",
    "\n",
    "query = {\"LocalAuthorityName\": \"London\", \"RatingValue\": {\"$gte\": 4}}\n",
    "\n",
    "# Use count_documents to display the number of documents in the result\n",
    "count_result = db.establishments.count_documents(query)\n",
    "print(f\"Number of establishments in London with RatingValue greater than or equal to 4: {count_result}\")\n",
    "\n",
    "# Display the first document in the results using pprint\n",
    "result_document = db.establishments.find_one(query)\n",
    "print(\"First document in London with RatingValue greater than or equal to 4:\")\n",
    "pprint(result_document)"
   ]
  },
  {
   "cell_type": "code",
   "execution_count": null,
   "id": "07e24ccb",
   "metadata": {},
   "outputs": [],
   "source": [
    "# Convert the result to a Pandas DataFrame\n",
    "\n",
    "df_result_london = pd.DataFrame(list(db.establishments.find(query)))\n",
    "\n",
    "# Display the number of rows in the DataFrame\n",
    "print(f\"Number of rows in the DataFrame for establishments in London with RatingValue >= 4: {len(df_result_london)}\")\n",
    "\n",
    "# Display the first 10 rows of the DataFrame\n",
    "print(\"First 10 rows of the DataFrame for establishments in London with RatingValue >= 4:\")\n",
    "print(df_result_london.head(10))"
   ]
  },
  {
   "attachments": {},
   "cell_type": "markdown",
   "id": "4e570caf",
   "metadata": {},
   "source": [
    "### 3. What are the top 5 establishments with a `RatingValue` rating value of 5, sorted by lowest hygiene score, nearest to the new restaurant added, \"Penang Flavours\"?"
   ]
  },
  {
   "cell_type": "code",
   "execution_count": null,
   "id": "7f599f3d",
   "metadata": {},
   "outputs": [],
   "source": [
    "# Search within 0.01 degree on either side of the latitude and longitude.\n",
    "\n",
    "degree_search = 0.01\n",
    "latitude = 40.7128 \n",
    "longitude = -74.0060 \n",
    "\n",
    "# Rating value must equal 5\n",
    "query = {\n",
    "    \"geocode.latitude\": {\"$gte\": latitude - degree_search, \"$lte\": latitude + degree_search},\n",
    "    \"geocode.longitude\": {\"$gte\": longitude - degree_search, \"$lte\": longitude + degree_search},\n",
    "    \"RatingValue\": 5\n",
    "}\n",
    "\n",
    "# Sort by hygiene score\n",
    "sort = [(\"scores.Hygiene\", 1)]  \n",
    "# Find and sort the establishments\n",
    "result = db.establishments.find(query).sort(sort)\n",
    "\n",
    "# Print the results\n",
    "print(\"Establishments within 0.01 degree of the specified latitude and longitude, with RatingValue equal to 5, sorted by hygiene score:\")\n",
    "for doc in result:\n",
    "    pprint(doc)"
   ]
  },
  {
   "cell_type": "code",
   "execution_count": null,
   "id": "a6ad16f7",
   "metadata": {},
   "outputs": [],
   "source": [
    "# Convert result to Pandas DataFrame\n",
    "df_result_query = pd.DataFrame(list(result))\n",
    "\n",
    "\n",
    "print(f\"Number of rows in the DataFrame for the query result: {len(df_result_query)}\")\n",
    "\n",
    "\n",
    "print(\"First 10 rows of the DataFrame for the query result:\")\n",
    "print(df_result_query.head(10))"
   ]
  },
  {
   "cell_type": "markdown",
   "id": "67281254",
   "metadata": {},
   "source": [
    "### 4. How many establishments in each Local Authority area have a hygiene score of 0?"
   ]
  },
  {
   "cell_type": "code",
   "execution_count": null,
   "id": "4eeb227e",
   "metadata": {},
   "outputs": [],
   "source": [
    "# Create a pipeline that: \n",
    "# 1. Matches establishments with a hygiene score of 0\n",
    "# 2. Groups the matches by Local Authority\n",
    "# 3. Sorts the matches from highest to lowest\n",
    "\n",
    "# Print the number of documents in the result\n",
    "\n",
    "# Print the first 10 results\n",
    "pipeline = [\n",
    "    {\"$match\": {\"scores.Hygiene\": 0}},  # Match establishments with a hygiene score of 0\n",
    "    {\"$group\": {\"_id\": \"$LocalAuthorityName\", \"count\": {\"$sum\": 1}}},  # Group by Local Authority and count the documents\n",
    "    {\"$sort\": SON([(\"count\", -1)])}  # Sort the matches from highest to lowest\n",
    "]\n",
    "\n",
    "# Execute the pipeline\n",
    "result_aggregation = list(db.establishments.aggregate(pipeline))\n",
    "\n",
    "# Print the number of documents in the result\n",
    "print(f\"Number of documents in the result of the aggregation pipeline: {len(result_aggregation)}\")\n",
    "\n",
    "# Print the first 10 results\n",
    "print(\"First 10 results of the aggregation pipeline:\")\n",
    "pprint(result_aggregation[:10])"
   ]
  },
  {
   "cell_type": "code",
   "execution_count": null,
   "id": "d8aab364",
   "metadata": {},
   "outputs": [],
   "source": [
    "# Convert the result to a Pandas DataFrame\n",
    "\n",
    "df_result_aggregation = pd.DataFrame(result_aggregation)\n",
    "\n",
    "# Display the number of rows in the DataFrame\n",
    "print(f\"Number of rows in the DataFrame for the aggregation pipeline result: {len(df_result_aggregation)}\")\n",
    "\n",
    "# Display the first 10 rows of the DataFrame\n",
    "print(\"First 10 rows of the DataFrame for the aggregation pipeline result:\")\n",
    "print(df_result_aggregation.head(10))"
   ]
  }
 ],
 "metadata": {
  "kernelspec": {
   "display_name": "Python 3 (ipykernel)",
   "language": "python",
   "name": "python3"
  },
  "language_info": {
   "codemirror_mode": {
    "name": "ipython",
    "version": 3
   },
   "file_extension": ".py",
   "mimetype": "text/x-python",
   "name": "python",
   "nbconvert_exporter": "python",
   "pygments_lexer": "ipython3",
   "version": "3.10.4"
  }
 },
 "nbformat": 4,
 "nbformat_minor": 5
}
